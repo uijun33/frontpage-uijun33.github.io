{
  "nbformat": 4,
  "nbformat_minor": 0,
  "metadata": {
    "colab": {
      "provenance": [],
      "authorship_tag": "ABX9TyMOttR1v5aGPu31fhXfujTg",
      "include_colab_link": true
    },
    "kernelspec": {
      "name": "python3",
      "display_name": "Python 3"
    },
    "language_info": {
      "name": "python"
    }
  },
  "cells": [
    {
      "cell_type": "markdown",
      "metadata": {
        "id": "view-in-github",
        "colab_type": "text"
      },
      "source": [
        "<a href=\"https://colab.research.google.com/github/uijun33/frontpage-uijun33.github.io/blob/main/MSA_Python_Game.ipynb\" target=\"_parent\"><img src=\"https://colab.research.google.com/assets/colab-badge.svg\" alt=\"Open In Colab\"/></a>"
      ]
    },
    {
      "cell_type": "code",
      "execution_count": 1,
      "metadata": {
        "colab": {
          "base_uri": "https://localhost:8080/"
        },
        "id": "-QHvADljASrw",
        "outputId": "1f426689-b22e-41ee-ed9e-bbe6fd29ecd3"
      },
      "outputs": [
        {
          "output_type": "stream",
          "name": "stdout",
          "text": [
            "Requirement already satisfied: pygame in /usr/local/lib/python3.10/dist-packages (2.5.0)\n"
          ]
        }
      ],
      "source": [
        "!pip install pygame\n"
      ]
    },
    {
      "cell_type": "code",
      "source": [
        "import cv2\n",
        "from google.colab.patches import cv2_imshow\n",
        "from google.colab import output\n",
        "import time\n",
        "import os, sys"
      ],
      "metadata": {
        "id": "EOzFANQlAkZL"
      },
      "execution_count": 9,
      "outputs": []
    },
    {
      "cell_type": "code",
      "source": [
        "# set SDL to use the dummy NULL video driver,\n",
        "#   so it doesn't need a windowing system.\n",
        "os.environ[\"SDL_VIDEODRIVER\"] = \"dummy\""
      ],
      "metadata": {
        "id": "flSt5DoYMi-W"
      },
      "execution_count": 10,
      "outputs": []
    },
    {
      "cell_type": "code",
      "source": [
        "import pygame\n",
        "import sys\n",
        "import random\n",
        "\n",
        "pygame.init()\n",
        "\n",
        "# Screen dimensions\n",
        "SCREEN_WIDTH = 800\n",
        "SCREEN_HEIGHT = 600\n",
        "\n",
        "# Colors\n",
        "WHITE = (255, 255, 255)\n",
        "\n",
        "# Create the screen\n",
        "screen = pygame.display.set_mode((SCREEN_WIDTH, SCREEN_HEIGHT))\n",
        "pygame.display.set_caption(\"1945 Air Force Game\")\n",
        "\n",
        "# Load background image\n",
        "background_image = pygame.image.load(\"background.jpg\").convert()\n",
        "\n",
        "# Load plane image\n",
        "plane_image = pygame.image.load(\"Plane.png\").convert_alpha()\n",
        "\n",
        "# Load enemy plane image\n",
        "enemy_image = pygame.image.load(\"prey.png\").convert_alpha()\n",
        "\n",
        "# Load game over image\n",
        "game_over_image = pygame.image.load(\"prey.png\").convert()\n",
        "\n",
        "class PlayerPlane(pygame.sprite.Sprite):\n",
        "    def __init__(self):\n",
        "        super().__init__()\n",
        "        self.image = plane_image\n",
        "        self.rect = self.image.get_rect()\n",
        "        self.rect.centerx = SCREEN_WIDTH // 2\n",
        "        self.rect.bottom = SCREEN_HEIGHT - 10\n",
        "        self.speed_x = 0\n",
        "\n",
        "    def update(self):\n",
        "        self.rect.x += self.speed_x\n",
        "        if self.rect.left < 0:\n",
        "            self.rect.left = 0\n",
        "        if self.rect.right > SCREEN_WIDTH:\n",
        "            self.rect.right = SCREEN_WIDTH\n",
        "\n",
        "class EnemyPlane(pygame.sprite.Sprite):\n",
        "    def __init__(self):\n",
        "        super().__init__()\n",
        "        self.image = enemy_image\n",
        "        self.rect = self.image.get_rect()\n",
        "        self.rect.x = random.randint(0, SCREEN_WIDTH - self.rect.width)\n",
        "        self.rect.y = random.randint(-SCREEN_HEIGHT, -self.rect.height)\n",
        "        self.speed_y = random.randint(1, 3)\n",
        "\n",
        "    def update(self):\n",
        "        self.rect.y += self.speed_y\n",
        "        if self.rect.top > SCREEN_HEIGHT:\n",
        "            self.rect.x = random.randint(0, SCREEN_WIDTH - self.rect.width)\n",
        "            self.rect.y = random.randint(-SCREEN_HEIGHT, -self.rect.height)\n",
        "            self.speed_y = random.randint(1, 3)\n",
        "\n",
        "def check_collisions():\n",
        "    return pygame.sprite.spritecollide(player, enemy_group, True)\n",
        "\n",
        "def show_game_over_screen():\n",
        "    screen.blit(game_over_image, (0, 0))\n",
        "    pygame.display.flip()\n",
        "    pygame.time.wait(2000)  # Display the game over screen for 2 seconds\n",
        "\n",
        "player = PlayerPlane()\n",
        "all_sprites = pygame.sprite.Group()\n",
        "all_sprites.add(player)\n",
        "\n",
        "enemy_group = pygame.sprite.Group()\n",
        "for _ in range(10):  # Spawn 10 enemy planes\n",
        "    enemy = EnemyPlane()\n",
        "    all_sprites.add(enemy)\n",
        "    enemy_group.add(enemy)\n",
        "\n",
        "clock = pygame.time.Clock()\n",
        "score = 0\n",
        "\n",
        "try:\n",
        "    while True:\n",
        "        for event in pygame.event.get():\n",
        "            if event.type == pygame.QUIT:\n",
        "                pygame.quit()\n",
        "                sys.exit()\n",
        "\n",
        "        keys = pygame.key.get_pressed()\n",
        "        player.speed_x = (keys[pygame.K_RIGHT] - keys[pygame.K_LEFT]) * 5\n",
        "\n",
        "        all_sprites.update()\n",
        "\n",
        "        if check_collisions():\n",
        "            show_game_over_screen()\n",
        "\n",
        "        # Draw the background and all sprites on the screen\n",
        "        screen.blit(background_image, (0, 0))\n",
        "        all_sprites.draw(screen)\n",
        "\n",
        "        # Update the screen\n",
        "        pygame.display.flip()\n",
        "        clock.tick(60)\n",
        "\n",
        "except Exception as e:\n",
        "    # Print the traceback in case of an exception\n",
        "    import traceback\n",
        "    traceback.print_exc()\n",
        "    pygame.quit()\n",
        "    sys.exit()"
      ],
      "metadata": {
        "id": "f5Pf3MTJAaVi"
      },
      "execution_count": null,
      "outputs": []
    },
    {
      "cell_type": "code",
      "source": [],
      "metadata": {
        "colab": {
          "base_uri": "https://localhost:8080/",
          "height": 117
        },
        "id": "RmvmoSwsVKQ4",
        "outputId": "1d689a27-3dc1-4d91-8f51-0c06ea89f9d8"
      },
      "execution_count": 12,
      "outputs": [
        {
          "output_type": "execute_result",
          "data": {
            "image/png": "[encoded data removed]",
            "text/plain": [
              "<IPython.core.display.Image object>"
            ]
          },
          "metadata": {},
          "execution_count": 12
        }
      ]
    },
    {
      "cell_type": "code",
      "source": [],
      "metadata": {
        "id": "Wm-n4_cdVLyW"
      },
      "execution_count": null,
      "outputs": []
    }
  ]
}